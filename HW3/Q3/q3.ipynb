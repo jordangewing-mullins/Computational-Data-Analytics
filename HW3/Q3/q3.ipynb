{
 "cells": [
  {
   "cell_type": "markdown",
   "metadata": {},
   "source": [
    "# HW3 - Q3 [35 pts]"
   ]
  },
  {
   "cell_type": "markdown",
   "metadata": {},
   "source": [
    "## Important Notices\n",
    "\n",
    "<div class=\"alert alert-block alert-danger\">\n",
    "    WARNING: <strong>REMOVE</strong> any print statements added to cells with \"#export\" that are used for debugging purposes befrore submitting because they will crash the autograder in Gradescope. Any additional cells can be used for testing purposes at the bottom. \n",
    "</div>\n",
    "\n",
    "<div class=\"alert alert-block alert-danger\">\n",
    "    WARNING: Do <strong>NOT</strong> remove any comment that says \"#export\" because that will crash the autograder in Gradescope. We use this comment to export your code in these cells for grading.\n",
    "</div>\n",
    "\n",
    "<div class=\"alert alert-block alert-danger\">\n",
    "    WARNING: Do <strong>NOT</strong> import any additional libraries into this workbook.\n",
    "</div>\n",
    "\n",
    "All instructions, code comments, etc. in this notebook **are part of the assignment instructions**. That is, if there is instructions about completing a task in this notebook, that task is not optional.  \n",
    "\n",
    "<div class=\"alert alert-block alert-info\">\n",
    "    You <strong>must</strong> implement the following functions in this notebook to receive credit.\n",
    "</div>\n",
    "\n",
    "`user()`\n",
    "\n",
    "`long_trips()`\n",
    "\n",
    "`manhattan_trips()`\n",
    "\n",
    "`weighted_profit()`\n",
    "\n",
    "`final_output()`\n",
    "\n",
    "Each method will be auto-graded using different sets of parameters or data, to ensure that values are not hard-coded.  You may assume we will only use your code to work with data from the NYC-TLC dataset during auto-grading.\n",
    "\n",
    "<div class=\"alert alert-block alert-danger\">\n",
    "    WARNING: Do <strong>NOT</strong> remove or modify the following utility functions:\n",
    "</div>\n",
    "\n",
    "`load_data()`\n",
    "\n",
    "`main()`"
   ]
  },
  {
   "cell_type": "markdown",
   "metadata": {},
   "source": [
    "<div class=\"alert alert-block alert-info\">\n",
    "    Do <strong>not</strong> change the below cell. Run it to initialize your PySpark instance. If you don't get any output, make sure your Notebook's Kernel is set to \"PySpark\" in the top right corner.\n",
    "</div>"
   ]
  },
  {
   "cell_type": "code",
   "execution_count": 1,
   "metadata": {},
   "outputs": [
    {
     "name": "stdout",
     "output_type": "stream",
     "text": [
      "Calculation started (calculation_id=78c5be78-8e0f-b0d6-4613-50f08ae44705) in (session=4cc5be77-af71-c190-344d-5fa34856b792). Checking calculation status...\n"
     ]
    },
    {
     "data": {
      "application/vnd.jupyter.widget-view+json": {
       "model_id": "30ed2b7cbc634a92bf9ce23cdf9f61e6",
       "version_major": 2,
       "version_minor": 0
      },
      "text/plain": [
       "Progress:   0%|          |elapsed time = 00:00s"
      ]
     },
     "metadata": {},
     "output_type": "display_data"
    },
    {
     "name": "stdout",
     "output_type": "stream",
     "text": [
      "Calculation completed.\n",
      "<SparkContext master=athena appName=default>\n",
      "\n"
     ]
    }
   ],
   "source": [
    "sc"
   ]
  },
  {
   "cell_type": "markdown",
   "metadata": {},
   "source": [
    "<div class=\"alert alert-block alert-danger\">\n",
    "    WARNING: Do <strong>NOT</strong> remodify the below cell. It contains the function for loading data and all imports, and the function for running your code.\n",
    "</div>"
   ]
  },
  {
   "cell_type": "code",
   "execution_count": 2,
   "metadata": {},
   "outputs": [
    {
     "name": "stdout",
     "output_type": "stream",
     "text": [
      "Calculation started (calculation_id=f8c5be78-941e-88ef-2cb4-7dc3bda2b4a9) in (session=4cc5be77-af71-c190-344d-5fa34856b792). Checking calculation status...\n"
     ]
    },
    {
     "data": {
      "application/vnd.jupyter.widget-view+json": {
       "model_id": "4189ebaf66754100b63346be07071609",
       "version_major": 2,
       "version_minor": 0
      },
      "text/plain": [
       "Progress:   0%|          |elapsed time = 00:00s"
      ]
     },
     "metadata": {},
     "output_type": "display_data"
    },
    {
     "name": "stdout",
     "output_type": "stream",
     "text": [
      "Calculation completed.\n"
     ]
    }
   ],
   "source": [
    "#export\n",
    "from pyspark.sql.functions import *\n",
    "from pyspark.sql import *"
   ]
  },
  {
   "cell_type": "code",
   "execution_count": 3,
   "metadata": {},
   "outputs": [
    {
     "name": "stdout",
     "output_type": "stream",
     "text": [
      "Calculation started (calculation_id=74c5be78-9955-9d42-686b-6b47afc36a11) in (session=4cc5be77-af71-c190-344d-5fa34856b792). Checking calculation status...\n"
     ]
    },
    {
     "data": {
      "application/vnd.jupyter.widget-view+json": {
       "model_id": "700188b59600478a83bdb4650250fef1",
       "version_major": 2,
       "version_minor": 0
      },
      "text/plain": [
       "Progress:   0%|          |elapsed time = 00:00s"
      ]
     },
     "metadata": {},
     "output_type": "display_data"
    },
    {
     "name": "stdout",
     "output_type": "stream",
     "text": [
      "Calculation completed.\n"
     ]
    }
   ],
   "source": [
    "#### DO NOT CHANGE ANYTHING IN THIS CELL ####\n",
    "\n",
    "def load_data(size='small'):\n",
    "    # Loads the data for this question. Do not change this function.\n",
    "    # This function should only be called with the parameter 'small' or 'large'\n",
    "    \n",
    "    if size != 'small' and size != 'large':\n",
    "        print(\"Invalid size parameter provided. Use only 'small' or 'large'.\")\n",
    "        return\n",
    "    \n",
    "    input_bucket = \"s3://cse6242-hw3-q3\"\n",
    "    \n",
    "    # Load Trip Data\n",
    "    trip_path = '/'+size+'/yellow_tripdata*'\n",
    "    trips = spark.read.csv(input_bucket + trip_path, header=True, inferSchema=True)\n",
    "    print(\"Trip Count: \",trips.count()) # Prints # of trips (# of records, as each record is one trip)\n",
    "    \n",
    "    # Load Lookup Data\n",
    "    lookup_path = '/'+size+'/taxi*'\n",
    "    lookup = spark.read.csv(input_bucket + lookup_path, header=True, inferSchema=True)\n",
    "    \n",
    "    return trips, lookup\n",
    "\n",
    "def main(size, bucket):\n",
    "    # Runs your functions implemented above.\n",
    "    \n",
    "    print(user())\n",
    "    trips, lookup = load_data(size=size)\n",
    "    trips = long_trips(trips)\n",
    "    mtrips = manhattan_trips(trips, lookup)\n",
    "    wp = weighted_profit(trips, mtrips)\n",
    "    final = final_output(wp, lookup)\n",
    "    \n",
    "    # Outputs the results for you to visually see\n",
    "    final.show()\n",
    "    \n",
    "    # Writes out as a CSV to your bucket.\n",
    "    final.write.csv(bucket)"
   ]
  },
  {
   "cell_type": "markdown",
   "metadata": {},
   "source": [
    "# Implement the below functions for this assignment:\n",
    "<div class=\"alert alert-block alert-danger\">\n",
    "    WARNING: Do <strong>NOT</strong> change any function inputs or outputs, and ensure that the dataframes your code returns align with the schema definitions commented in each function. Do <strong>NOT</strong> remove the #export comment from each of the code blocks either. This can prevent your code from being converted to a python file.\n",
    "</div>"
   ]
  },
  {
   "cell_type": "markdown",
   "metadata": {},
   "source": [
    "## 3a. [1 pt] Update the `user()` function\n",
    "This function should return your GT username, eg: gburdell3"
   ]
  },
  {
   "cell_type": "code",
   "execution_count": 4,
   "metadata": {},
   "outputs": [
    {
     "name": "stdout",
     "output_type": "stream",
     "text": [
      "Calculation started (calculation_id=32c5be78-a65d-4cd3-7a3e-fe5c871bd438) in (session=4cc5be77-af71-c190-344d-5fa34856b792). Checking calculation status...\n"
     ]
    },
    {
     "data": {
      "application/vnd.jupyter.widget-view+json": {
       "model_id": "bed89dd0f7e14533ac71a3a905c01dd7",
       "version_major": 2,
       "version_minor": 0
      },
      "text/plain": [
       "Progress:   0%|          |elapsed time = 00:00s"
      ]
     },
     "metadata": {},
     "output_type": "display_data"
    },
    {
     "name": "stdout",
     "output_type": "stream",
     "text": [
      "Calculation completed.\n"
     ]
    }
   ],
   "source": [
    "#export\n",
    "def user():\n",
    "    # Returns a string consisting of your GT username.\n",
    "    return 'jag31'"
   ]
  },
  {
   "cell_type": "markdown",
   "metadata": {},
   "source": [
    "## 3b. [2 pts] Update the `long_trips()` function\n",
    "This function filters trips to keep only trips greater than or equal to 2 miles."
   ]
  },
  {
   "cell_type": "code",
   "execution_count": 5,
   "metadata": {},
   "outputs": [
    {
     "name": "stdout",
     "output_type": "stream",
     "text": [
      "Calculation started (calculation_id=8cc5be78-b107-bb53-c45f-54b83ca266f0) in (session=4cc5be77-af71-c190-344d-5fa34856b792). Checking calculation status...\n"
     ]
    },
    {
     "data": {
      "application/vnd.jupyter.widget-view+json": {
       "model_id": "901cbd2f75b34b5494b5196f88dc2d3d",
       "version_major": 2,
       "version_minor": 0
      },
      "text/plain": [
       "Progress:   0%|          |elapsed time = 00:00s"
      ]
     },
     "metadata": {},
     "output_type": "display_data"
    },
    {
     "name": "stdout",
     "output_type": "stream",
     "text": [
      "Calculation completed.\n"
     ]
    }
   ],
   "source": [
    "#export\n",
    "from pyspark.sql.functions import col\n",
    "def long_trips(trips):\n",
    "    # Returns a Dataframe (trips) with Schema the same as :trips:\n",
    "    long_trips = trips.filter(col(\"trip_distance\") >= 2.0)\n",
    "    return long_trips"
   ]
  },
  {
   "cell_type": "markdown",
   "metadata": {},
   "source": [
    "## 3c. [6 pts] Update the `manhattan_trips()` function\n",
    "\n",
    "This function determines the top 20 locations with a `DOLocationID` in manhattan by passenger_count (pcount).\n",
    "\n",
    "Example output formatting:\n",
    "\n",
    "```\n",
    "+--------------+--------+\n",
    "| DOLocationID | pcount |\n",
    "+--------------+--------+\n",
    "|             5|      15|\n",
    "|            16|      12| \n",
    "+--------------+--------+\n",
    "```"
   ]
  },
  {
   "cell_type": "code",
   "execution_count": 6,
   "metadata": {},
   "outputs": [
    {
     "name": "stdout",
     "output_type": "stream",
     "text": [
      "Calculation started (calculation_id=ecc5be78-bfa3-1f0f-a493-5651442e6f06) in (session=4cc5be77-af71-c190-344d-5fa34856b792). Checking calculation status...\n"
     ]
    },
    {
     "data": {
      "application/vnd.jupyter.widget-view+json": {
       "model_id": "1d955bda4d81451e80b211fa2bd52adb",
       "version_major": 2,
       "version_minor": 0
      },
      "text/plain": [
       "Progress:   0%|          |elapsed time = 00:00s"
      ]
     },
     "metadata": {},
     "output_type": "display_data"
    },
    {
     "name": "stdout",
     "output_type": "stream",
     "text": [
      "Calculation completed.\n"
     ]
    }
   ],
   "source": [
    "#export\n",
    "from pyspark.sql.functions import sum\n",
    "def manhattan_trips(trips, lookup):\n",
    "    # Returns a Dataframe (mtrips) with Schema: DOLocationID, pcount\n",
    "    \n",
    "    # Join 'trips' and 'lookup' DataFrames on 'DOLocationID' and 'LocationID'\n",
    "    joined_df = trips.join(lookup, trips['DOLocationID'] == lookup['LocationID'], 'inner')\n",
    "\n",
    "    # Filter the joined DataFrame to keep only those with drop-off location in Manhattan and trip_distance >= 2.0\n",
    "    manhattan_trips = joined_df.filter((joined_df['Borough'] == 'Manhattan') & (joined_df['trip_distance'] >= 2.0))\n",
    "\n",
    "    # Group by DOLocationID and calculate the sum of passenger_count for each location\n",
    "    grouped = manhattan_trips.groupBy('DOLocationID').agg(sum('passenger_count').alias('pcount'))\n",
    "\n",
    "    # Sort the DataFrame in descending order of pcount\n",
    "    sorted_mtrips = grouped.sort('pcount', ascending=False)\n",
    "\n",
    "    # Select the top 20 locations\n",
    "    top_20_mtrips = sorted_mtrips.limit(20)\n",
    "\n",
    "    return top_20_mtrips"
   ]
  },
  {
   "cell_type": "markdown",
   "metadata": {},
   "source": [
    "## 3d. [6 pts] Update the `weighted_profit()` function\n",
    "This function should determine the average `total_amount`, the total count of trips, and the total count of trips ending in the top 20 destinations and return the `weighted_profit` as discussed in the homework document.\n",
    "\n",
    "Example output formatting:\n",
    "```\n",
    "+--------------+-------------------+\n",
    "| PULocationID |  weighted_profit  |\n",
    "+--------------+-------------------+\n",
    "|            18| 33.784444421924436| \n",
    "|            12| 21.124577637149223| \n",
    "+--------------+-------------------+\n",
    "```"
   ]
  },
  {
   "cell_type": "code",
   "execution_count": 7,
   "metadata": {},
   "outputs": [
    {
     "name": "stdout",
     "output_type": "stream",
     "text": [
      "Calculation started (calculation_id=74c5be79-5047-08da-ac5b-35ec1ad2f2ac) in (session=4cc5be77-af71-c190-344d-5fa34856b792). Checking calculation status...\n"
     ]
    },
    {
     "data": {
      "application/vnd.jupyter.widget-view+json": {
       "model_id": "2cc97e9ddb0641d4984df1c69bc7673f",
       "version_major": 2,
       "version_minor": 0
      },
      "text/plain": [
       "Progress:   0%|          |elapsed time = 00:00s"
      ]
     },
     "metadata": {},
     "output_type": "display_data"
    },
    {
     "name": "stdout",
     "output_type": "stream",
     "text": [
      "Calculation completed.\n"
     ]
    }
   ],
   "source": [
    "#export\n",
    "from pyspark.sql.functions import avg, count\n",
    "from pyspark.sql.types import DecimalType\n",
    "from pyspark.sql.functions import col\n",
    "\n",
    "def weighted_profit(trips, mtrips):\n",
    "    # Returns a Dataframe (wp) with Schema: PULocationID, weighted_profit\n",
    "    # Note: Use decimal datatype for weighted profit (NOTE: DON'T USE FLOAT)\n",
    "    # Our grader will be only be checking the first 8 characters for each value in the dataframe\n",
    "    mtrips_copy = mtrips\n",
    "    mtrips_copy = mtrips_copy.withColumnRenamed('DOLocationID', \"DOLocationID_Top\")\n",
    "    trips_filtered = trips.join(mtrips_copy, trips[\"DOLocationID\"] == mtrips_copy[\"DOLocationID_Top\"], \"inner\").select(\"PULocationID\", \"DOLocationID\",\"total_amount\")\n",
    "    trips_filtered_count = trips_filtered.groupBy([\"PULocationID\"]).count()\n",
    "    trips_count = trips.groupBy([\"PULocationID\"]).agg({\"*\":\"count\", \"total_amount\":\"mean\"})\n",
    "    trips_filtered_count = trips_filtered_count.withColumnRenamed('PULocationID', \"PULocationID_Top\")\n",
    "    trips_count = trips_count.withColumnRenamed('avg(total_amount)', \"avg_per_trip\")\n",
    "    trips_count = trips_count.withColumnRenamed('count(1)', \"count_total\")\n",
    "    result_df = trips_count.join(trips_filtered_count, trips_count[\"PULocationID\"] == trips_filtered_count[\"PULocationID_Top\"], \"inner\").select(\"PULocationID\",\"count\",\"count_total\",\"avg_per_trip\")\n",
    "    #return trips_count.orderBy([\"PULocationID\"]), trips_filtered_count.orderBy([\"PULocationID\"]), result_df.orderBy([\"PULocationID\"])\n",
    "    result_df = result_df.withColumn(\"avg_per_trip\", result_df[\"avg_per_trip\"].cast(\"decimal(20,10)\"))\n",
    "    result_df = result_df.withColumn(\"count\", result_df[\"count\"].cast(\"decimal(20,10)\"))\n",
    "    result_df = result_df.withColumn(\"count_total\", result_df[\"count_total\"].cast(\"decimal\"))\n",
    "    result_df = result_df.withColumn(\"weighted_profit\",(result_df[\"avg_per_trip\"]*result_df[\"count\"])/result_df[\"count_total\"])\n",
    "    return result_df.orderBy([\"PULocationID\"]).select([\"PULocationID\", \"weighted_profit\"])"
   ]
  },
  {
   "cell_type": "markdown",
   "metadata": {},
   "source": [
    "## 3e. [5 pts] Update the `final_output()` function\n",
    "This function will take the results of `weighted_profit`, links it to the `borough` and `zone` and returns the top 20 locations with the highest `weighted_profit`.\n",
    "\n",
    "Example output formatting:\n",
    "```\n",
    "+------------+---------+-------------------+\n",
    "|    Zone    | Borough |  weighted_profit  |\n",
    "+----------------------+-------------------+\n",
    "| JFK Airport|   Queens|  16.95897820117925|\n",
    "|     Jamaica|   Queens| 14.879835188762488|\n",
    "+------------+---------+-------------------+\n",
    "```"
   ]
  },
  {
   "cell_type": "code",
   "execution_count": 8,
   "metadata": {},
   "outputs": [
    {
     "name": "stdout",
     "output_type": "stream",
     "text": [
      "Calculation started (calculation_id=6ec5be79-5fcf-7130-fa0b-4dc78197fca5) in (session=4cc5be77-af71-c190-344d-5fa34856b792). Checking calculation status...\n"
     ]
    },
    {
     "data": {
      "application/vnd.jupyter.widget-view+json": {
       "model_id": "91333a1aba0142eb89ef3713a6ee4c68",
       "version_major": 2,
       "version_minor": 0
      },
      "text/plain": [
       "Progress:   0%|          |elapsed time = 00:00s"
      ]
     },
     "metadata": {},
     "output_type": "display_data"
    },
    {
     "name": "stdout",
     "output_type": "stream",
     "text": [
      "Calculation completed.\n"
     ]
    }
   ],
   "source": [
    "#export \n",
    "def final_output(wp, lookup): \n",
    "    # Returns a Dataframe (final) with Schema: Zone, Borough, weighted_profit\n",
    "    # Note: Use decimal datatype for weighted profit (NOTE: DON'T USE FLOAT)\n",
    "    # Our grader will be only be checking the first 8 characters for each value in the dataframe\n",
    "    \n",
    "    final = wp.join(lookup, wp.PULocationID == lookup.LocationID, 'inner')\n",
    "    final = final.select(\n",
    "        col(\"Zone\").alias(\"Zone\"),\n",
    "        col(\"Borough\").alias(\"Borough\"),\n",
    "        col(\"weighted_profit\").cast(DecimalType(38, 8))  # Maintain consistency with wp\n",
    "    )\n",
    "    \n",
    "    final = final.orderBy(col(\"weighted_profit\").desc()).limit(20)\n",
    "\n",
    "    return final"
   ]
  },
  {
   "cell_type": "markdown",
   "metadata": {},
   "source": [
    "#### Testing\n",
    "\n",
    "<div class=\"alert alert-block alert-info\">\n",
    "    You may use the below cell for any additional testing you need to do, however any code implemented below will not be run or used when grading.\n",
    "</div>"
   ]
  },
  {
   "cell_type": "code",
   "execution_count": 9,
   "metadata": {},
   "outputs": [
    {
     "name": "stdout",
     "output_type": "stream",
     "text": [
      "Calculation started (calculation_id=8ec5be79-7f11-debf-3c28-127500a50c9d) in (session=4cc5be77-af71-c190-344d-5fa34856b792). Checking calculation status...\n"
     ]
    },
    {
     "data": {
      "application/vnd.jupyter.widget-view+json": {
       "model_id": "d12336f51aad4e0f8b9e6dc0f273a86d",
       "version_major": 2,
       "version_minor": 0
      },
      "text/plain": [
       "Progress:   0%|          |elapsed time = 00:00s"
      ]
     },
     "metadata": {},
     "output_type": "display_data"
    },
    {
     "name": "stdout",
     "output_type": "stream",
     "text": [
      "Calculation completed.\n",
      "jag31\n",
      "Trip Count:  187203269\n",
      "+--------------------+-------------+---------------+\n",
      "|                Zone|      Borough|weighted_profit|\n",
      "+--------------------+-------------+---------------+\n",
      "|        Baisley Park|       Queens|    29.36045578|\n",
      "|Flushing Meadows-...|       Queens|    27.30484573|\n",
      "|       South Jamaica|       Queens|    26.29491624|\n",
      "|     Randalls Island|    Manhattan|    24.15098994|\n",
      "|        Astoria Park|       Queens|    21.70641711|\n",
      "|Briarwood/Jamaica...|       Queens|    19.94506463|\n",
      "|Springfield Garde...|       Queens|    19.46830929|\n",
      "|             Jamaica|       Queens|    19.28394300|\n",
      "|              Corona|       Queens|    18.22876925|\n",
      "|   LaGuardia Airport|       Queens|    18.18133881|\n",
      "|         Jamaica Bay|       Queens|    17.10052945|\n",
      "|             Maspeth|       Queens|    17.00545064|\n",
      "|Eltingville/Annad...|Staten Island|    16.83776476|\n",
      "|         JFK Airport|       Queens|    16.77772535|\n",
      "|        Battery Park|    Manhattan|    12.84978031|\n",
      "| Morningside Heights|    Manhattan|    12.45369803|\n",
      "|   Battery Park City|    Manhattan|    12.44884840|\n",
      "|Greenwich Village...|    Manhattan|    12.44694989|\n",
      "|       Rikers Island|        Bronx|    12.30630000|\n",
      "|  World Trade Center|    Manhattan|    12.29541192|\n",
      "+--------------------+-------------+---------------+\n",
      "\n"
     ]
    }
   ],
   "source": [
    "# Sample data for testing\n",
    "size = 'large'  # You can change this to 'large' if needed\n",
    "bucket = \"s3://cse6242-jag31/output-large9\"  # Replace with your S3 bucket name\n",
    "\n",
    "# Call the main() function with 'small' data\n",
    "main(size, bucket)"
   ]
  },
  {
   "cell_type": "code",
   "execution_count": 21,
   "metadata": {},
   "outputs": [],
   "source": [
    "#trips, lookup = load_data(size='small')\n",
    "#trips = long_trips(trips)\n",
    "#mtrips = manhattan_trips(trips, lookup)"
   ]
  },
  {
   "cell_type": "code",
   "execution_count": 22,
   "metadata": {},
   "outputs": [],
   "source": [
    "#wp = weighted_profit(trips, mtrips)\n",
    "#final = final_output(wp, lookup)"
   ]
  },
  {
   "cell_type": "code",
   "execution_count": 23,
   "metadata": {},
   "outputs": [],
   "source": [
    "#final.show(5)"
   ]
  },
  {
   "cell_type": "code",
   "execution_count": 24,
   "metadata": {},
   "outputs": [],
   "source": [
    "#wp.show()"
   ]
  },
  {
   "cell_type": "code",
   "execution_count": null,
   "metadata": {},
   "outputs": [],
   "source": []
  }
 ],
 "metadata": {
  "kernelspec": {
   "display_name": "Athena PySpark",
   "language": "python",
   "name": "kepler_python_kernel"
  },
  "language_info": {
   "codemirror_mode": {
    "name": "python",
    "version": 3
   },
   "file_extension": ".py",
   "mimetype": "text/x-python",
   "name": "Python_Session",
   "pygments_lexer": "python3"
  }
 },
 "nbformat": 4,
 "nbformat_minor": 4
}
