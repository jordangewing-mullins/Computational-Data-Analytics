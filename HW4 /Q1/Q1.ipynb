{
 "cells": [
  {
   "cell_type": "markdown",
   "metadata": {},
   "source": [
    "# DVA HW4 Q1\n",
    "## Pagerank Algorithm\n",
    "\n",
    "Do not distribute or publish this code  \n",
    "Do not change the `#export` statements or add and other code or comments above them. They are needed for grading."
   ]
  },
  {
   "cell_type": "code",
   "execution_count": 1,
   "metadata": {},
   "outputs": [],
   "source": [
    "#export\n",
    "'''\n",
    "*** Imports ***\n",
    "    DO NOT EDIT or add anything to this section\n",
    "'''\n",
    "import numpy as np\n",
    "import time\n",
    "import argparse\n",
    "import sys"
   ]
  },
  {
   "cell_type": "markdown",
   "metadata": {},
   "source": [
    "### Update your GT username and Id"
   ]
  },
  {
   "cell_type": "code",
   "execution_count": 2,
   "metadata": {},
   "outputs": [],
   "source": [
    "#export\n",
    "def author():                                                                                             \n",
    "        return \"jag31\"      # replace gburdell3 with your Georgia Tech username.                                                                                             \n",
    "                                                                                              \n",
    "def gtid():                                                                                               \n",
    "    return 903860338            # replace with your GT ID number   "
   ]
  },
  {
   "cell_type": "code",
   "execution_count": 3,
   "metadata": {},
   "outputs": [],
   "source": [
    "'''\n",
    "*** Utility function ***\n",
    "    DO NOT EDIT\n",
    "'''\n",
    "def dump_results(command, iterations, result):\n",
    "    print(\"Sorting...\", file=sys.stderr)\n",
    "    sorted_result = sorted(enumerate(result), key=lambda x: x[1], reverse=True)\n",
    "    output_result = \"node_id\\tpr_value\\n\"\n",
    "    for node_id, pr_value in sorted_result[:10]:\n",
    "        output_result += \"{0}\\t{1}\\n\".format(node_id, pr_value)\n",
    "    print(output_result)\n",
    "\n",
    "    with open(command+'_iter'+str(iterations)+\".txt\",\"w\") as output_file:\n",
    "        output_file.write(output_result)"
   ]
  },
  {
   "cell_type": "markdown",
   "metadata": {},
   "source": [
    "### PageRank Class\n",
    "Please add your code as indicated below  \n",
    "You do not need to add code outside of the indicated areas"
   ]
  },
  {
   "cell_type": "code",
   "execution_count": 4,
   "metadata": {},
   "outputs": [],
   "source": [
    "#export\n",
    "class PageRank:\n",
    "    def __init__(self, edge_file):\n",
    "\n",
    "        self.node_degree = {}\n",
    "        self.max_node_id = 0\n",
    "        self.edge_file = edge_file\n",
    "\n",
    "    def read_edge_file(self, edge_file):\n",
    "        with open(edge_file) as f:\n",
    "            for line in f:\n",
    "                val = line.split('\\t')\n",
    "                yield int(val[0]), int(val[1])\n",
    "\n",
    "    \"\"\"\n",
    "    Step1: Calculate the out-degree of each node and maximum node_id of the graph.\n",
    "    Store the out-degree in class variable \"node_degree\" and maximum node id to \"max_node_id\".\n",
    "    \"\"\"\n",
    "    def calculate_node_degree(self):\n",
    "        with open(self.edge_file) as f:\n",
    "            for line in f:\n",
    "                source, target = map(int, line.split('\\t'))\n",
    "                \n",
    "                # Update the out-degree for the source node\n",
    "                if source in self.node_degree:\n",
    "                    self.node_degree[source] += 1\n",
    "                else:\n",
    "                    self.node_degree[source] = 1\n",
    "                \n",
    "                # Update the maximum node ID if necessary\n",
    "                self.max_node_id = max(self.max_node_id, source, target)\n",
    "\n",
    "\n",
    "        print(\"Max node id: {}\".format(self.max_node_id))\n",
    "        print(\"Total source number: {}\".format(len(self.node_degree)))\n",
    "\n",
    "    def get_max_node_id(self):\n",
    "        return self.max_node_id\n",
    "\n",
    "    def run_pagerank(self, node_weights, damping_factor=0.85, iterations=10):\n",
    "        pr_values = [1.0 / (self.max_node_id + 1)] * (self.max_node_id + 1)\n",
    "        start_time = time.time()\n",
    "        \n",
    "        for it in range(iterations):\n",
    "            new_pr_values = [0.0] * (self.max_node_id + 1)\n",
    "            for source, target in self.read_edge_file(self.edge_file):\n",
    "                # Calculate the contribution from source to target node\n",
    "                contribution = damping_factor * (pr_values[source] / self.node_degree[source])\n",
    "                new_pr_values[target] += contribution\n",
    "            \n",
    "            # Add the random walk component for each node\n",
    "            for node_id in range(self.max_node_id + 1):\n",
    "                new_pr_values[node_id] += (1 - damping_factor) * node_weights[node_id]\n",
    "            \n",
    "            pr_values = new_pr_values\n",
    "            \n",
    "            print(\"Completed {0}/{1} iterations. {2} seconds elapsed.\".format(it + 1, iterations, time.time() - start_time))\n",
    "\n",
    "        return pr_values"
   ]
  },
  {
   "cell_type": "markdown",
   "metadata": {},
   "source": [
    "### Simplified Pagerank"
   ]
  },
  {
   "cell_type": "code",
   "execution_count": 5,
   "metadata": {},
   "outputs": [
    {
     "name": "stdout",
     "output_type": "stream",
     "text": [
      "Max node id: 1157826\n",
      "Total source number: 374785\n",
      "Completed 1/10 iterations. 2.2679150104522705 seconds elapsed.\n",
      "Completed 2/10 iterations. 5.434798002243042 seconds elapsed.\n",
      "Completed 3/10 iterations. 8.551039934158325 seconds elapsed.\n",
      "Completed 4/10 iterations. 11.637907981872559 seconds elapsed.\n",
      "Completed 5/10 iterations. 14.771154165267944 seconds elapsed.\n",
      "Completed 6/10 iterations. 17.83377194404602 seconds elapsed.\n",
      "Completed 7/10 iterations. 20.943562984466553 seconds elapsed.\n",
      "Completed 8/10 iterations. 24.0977520942688 seconds elapsed.\n",
      "Completed 9/10 iterations. 27.20265221595764 seconds elapsed.\n",
      "Completed 10/10 iterations. 30.468267917633057 seconds elapsed.\n"
     ]
    },
    {
     "name": "stderr",
     "output_type": "stream",
     "text": [
      "Sorting...\n"
     ]
    },
    {
     "name": "stdout",
     "output_type": "stream",
     "text": [
      "node_id\tpr_value\n",
      "663930\t0.0001724404640087135\n",
      "482708\t9.409193541687526e-05\n",
      "1034017\t5.480094973243455e-05\n",
      "663559\t4.87472647440821e-05\n",
      "357530\t4.5615623513891224e-05\n",
      "1120567\t4.4870100282189497e-05\n",
      "663605\t4.3482910860663805e-05\n",
      "663682\t3.65943675279321e-05\n",
      "1108860\t3.5276046684522986e-05\n",
      "664788\t3.503597066140542e-05\n",
      "\n",
      "Max node id: 1157826\n",
      "Total source number: 374785\n",
      "Completed 1/25 iterations. 2.266310930252075 seconds elapsed.\n",
      "Completed 2/25 iterations. 5.402040243148804 seconds elapsed.\n",
      "Completed 3/25 iterations. 8.520515203475952 seconds elapsed.\n",
      "Completed 4/25 iterations. 11.69982385635376 seconds elapsed.\n",
      "Completed 5/25 iterations. 15.315234184265137 seconds elapsed.\n",
      "Completed 6/25 iterations. 18.414727926254272 seconds elapsed.\n",
      "Completed 7/25 iterations. 23.129228115081787 seconds elapsed.\n",
      "Completed 8/25 iterations. 26.336640119552612 seconds elapsed.\n",
      "Completed 9/25 iterations. 29.588006019592285 seconds elapsed.\n",
      "Completed 10/25 iterations. 32.692867279052734 seconds elapsed.\n",
      "Completed 11/25 iterations. 36.037795066833496 seconds elapsed.\n",
      "Completed 12/25 iterations. 39.15971803665161 seconds elapsed.\n",
      "Completed 13/25 iterations. 42.49018597602844 seconds elapsed.\n",
      "Completed 14/25 iterations. 45.59083604812622 seconds elapsed.\n",
      "Completed 15/25 iterations. 48.82334113121033 seconds elapsed.\n",
      "Completed 16/25 iterations. 51.96046304702759 seconds elapsed.\n",
      "Completed 17/25 iterations. 55.12051320075989 seconds elapsed.\n",
      "Completed 18/25 iterations. 58.31077313423157 seconds elapsed.\n",
      "Completed 19/25 iterations. 61.5105721950531 seconds elapsed.\n",
      "Completed 20/25 iterations. 64.59741306304932 seconds elapsed.\n",
      "Completed 21/25 iterations. 67.75060415267944 seconds elapsed.\n",
      "Completed 22/25 iterations. 70.85550713539124 seconds elapsed.\n",
      "Completed 23/25 iterations. 74.3398380279541 seconds elapsed.\n",
      "Completed 24/25 iterations. 77.44303917884827 seconds elapsed.\n",
      "Completed 25/25 iterations. 80.56723690032959 seconds elapsed.\n"
     ]
    },
    {
     "name": "stderr",
     "output_type": "stream",
     "text": [
      "Sorting...\n"
     ]
    },
    {
     "name": "stdout",
     "output_type": "stream",
     "text": [
      "node_id\tpr_value\n",
      "663930\t0.000172438581121727\n",
      "482708\t9.409158864049368e-05\n",
      "1034017\t5.478941005079604e-05\n",
      "663559\t4.874698942960064e-05\n",
      "357530\t4.561544279769612e-05\n",
      "1120567\t4.4847128373773044e-05\n",
      "663605\t4.348263426865654e-05\n",
      "663682\t3.659435702898396e-05\n",
      "1108860\t3.5251801674277104e-05\n",
      "664788\t3.5035704161325006e-05\n",
      "\n"
     ]
    }
   ],
   "source": [
    "# Options\n",
    "file = 'network.tsv'                # Input file of the edge list - DO NOT EDIT\n",
    "command = 'simplified_pagerank'     # Command to run - DO NOT EDIT\n",
    "damping_factor = 0.85               # Damping factor - submit results for damping_factor = 0.85\n",
    "iterations = [10,25]                # Number of iterations - sumbit results for iterations = [10,25] \n",
    "\n",
    "# Run Simplified PageRank\n",
    "# DO NOT EDIT\n",
    "for i in iterations:\n",
    "    pr = PageRank(file)\n",
    "    pr.calculate_node_degree()\n",
    "    max_node_id = pr.get_max_node_id()\n",
    "    node_weights = np.ones(max_node_id + 1) / (max_node_id + 1)\n",
    "    result = pr.run_pagerank(node_weights=node_weights, iterations=i, damping_factor=damping_factor)\n",
    "    dump_results(command, i, result )"
   ]
  },
  {
   "cell_type": "markdown",
   "metadata": {},
   "source": [
    "### Personalized Pagerank"
   ]
  },
  {
   "cell_type": "code",
   "execution_count": null,
   "metadata": {},
   "outputs": [
    {
     "name": "stdout",
     "output_type": "stream",
     "text": [
      "Max node id: 1157826\n",
      "Total source number: 374785\n",
      "Completed 1/10 iterations. 2.3119890689849854 seconds elapsed.\n",
      "Completed 2/10 iterations. 5.46039080619812 seconds elapsed.\n",
      "Completed 3/10 iterations. 8.613555908203125 seconds elapsed.\n",
      "Completed 4/10 iterations. 12.093080043792725 seconds elapsed.\n",
      "Completed 5/10 iterations. 15.260868072509766 seconds elapsed.\n",
      "Completed 6/10 iterations. 18.3945050239563 seconds elapsed.\n",
      "Completed 7/10 iterations. 21.494001865386963 seconds elapsed.\n",
      "Completed 8/10 iterations. 24.591620922088623 seconds elapsed.\n",
      "Completed 9/10 iterations. 27.73306393623352 seconds elapsed.\n",
      "Completed 10/10 iterations. 31.0699520111084 seconds elapsed.\n",
      "node_id\tpr_value\n",
      "663930\t0.00016945717401510864\n",
      "482708\t9.476829255401413e-05\n",
      "1034017\t5.451063102670445e-05\n",
      "663559\t4.959020433897002e-05\n",
      "1120567\t4.600567493419944e-05\n",
      "357530\t4.4452306960315836e-05\n",
      "663605\t4.2885503000042714e-05\n",
      "663682\t3.519489924369314e-05\n",
      "1108860\t3.4832681902099675e-05\n",
      "664788\t3.471018108475325e-05\n",
      "\n"
     ]
    },
    {
     "name": "stderr",
     "output_type": "stream",
     "text": [
      "Sorting...\n"
     ]
    },
    {
     "name": "stdout",
     "output_type": "stream",
     "text": [
      "Max node id: 1157826\n",
      "Total source number: 374785\n",
      "Completed 1/25 iterations. 2.468409299850464 seconds elapsed.\n",
      "Completed 2/25 iterations. 5.616748094558716 seconds elapsed.\n",
      "Completed 3/25 iterations. 8.71825122833252 seconds elapsed.\n",
      "Completed 4/25 iterations. 11.842483043670654 seconds elapsed.\n",
      "Completed 5/25 iterations. 15.485342979431152 seconds elapsed.\n",
      "Completed 6/25 iterations. 18.59868812561035 seconds elapsed.\n",
      "Completed 7/25 iterations. 21.688894033432007 seconds elapsed.\n",
      "Completed 8/25 iterations. 24.81286311149597 seconds elapsed.\n",
      "Completed 9/25 iterations. 27.949449062347412 seconds elapsed.\n",
      "Completed 10/25 iterations. 31.140303134918213 seconds elapsed.\n",
      "Completed 11/25 iterations. 34.32340407371521 seconds elapsed.\n",
      "Completed 12/25 iterations. 37.4296190738678 seconds elapsed.\n"
     ]
    }
   ],
   "source": [
    "# Options\n",
    "file = 'network.tsv'                # Input file of the edge list - DO NOT EDIT\n",
    "command = 'personalized_pagerank'   # Command to run - DO NOT EDIT\n",
    "damping_factor = 0.85               # Damping factor - submit results for damping_factor = 0.85\n",
    "iterations = [10,25]                # Number of iterations - sumbit results for iterations = [10,25] \n",
    "\n",
    "# Run Personalized PageRank\n",
    "# DO NOT EDIT\n",
    "for i in iterations:\n",
    "    pr = PageRank(file)\n",
    "    pr.calculate_node_degree()\n",
    "    max_node_id = pr.get_max_node_id()\n",
    "    np.random.seed(gtid())\n",
    "    node_weights = np.random.rand(max_node_id + 1)\n",
    "    node_weights = node_weights/node_weights.sum()\n",
    "    result = pr.run_pagerank(node_weights=node_weights, iterations=i, damping_factor=damping_factor)\n",
    "    dump_results(command, i, result)"
   ]
  },
  {
   "cell_type": "markdown",
   "metadata": {},
   "source": [
    "### Submitting your results to gradescope\n",
    "Submit the following on Gradescope  \n",
    "* This file, Q1.ipynb\n",
    "* simplified_pagerank_iter10.txt\n",
    "* simplified_pagerank_iter25.txt\n",
    "* personalized_pagerank_iter10.txt\n",
    "* personalized_pagerank_iter25.txt\n"
   ]
  }
 ],
 "metadata": {
  "kernelspec": {
   "display_name": "Python 3 (ipykernel)",
   "language": "python",
   "name": "python3"
  },
  "language_info": {
   "codemirror_mode": {
    "name": "ipython",
    "version": 3
   },
   "file_extension": ".py",
   "mimetype": "text/x-python",
   "name": "python",
   "nbconvert_exporter": "python",
   "pygments_lexer": "ipython3",
   "version": "3.9.13"
  },
  "vscode": {
   "interpreter": {
    "hash": "3642a9a5458c52848e987ab5fac1a84c8f2ac89a120852e4d86cf44f31eabeca"
   }
  }
 },
 "nbformat": 4,
 "nbformat_minor": 2
}
